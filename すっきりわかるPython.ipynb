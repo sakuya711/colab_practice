{
  "nbformat": 4,
  "nbformat_minor": 0,
  "metadata": {
    "colab": {
      "provenance": [],
      "authorship_tag": "ABX9TyOEunBmB0cBxTaMtDaiCPnN",
      "include_colab_link": true
    },
    "kernelspec": {
      "name": "python3",
      "display_name": "Python 3"
    },
    "language_info": {
      "name": "python"
    }
  },
  "cells": [
    {
      "cell_type": "markdown",
      "metadata": {
        "id": "view-in-github",
        "colab_type": "text"
      },
      "source": [
        "<a href=\"https://colab.research.google.com/github/sakuya711/colab_practice/blob/main/%E3%81%99%E3%81%A3%E3%81%8D%E3%82%8A%E3%82%8F%E3%81%8B%E3%82%8BPython.ipynb\" target=\"_parent\"><img src=\"https://colab.research.google.com/assets/colab-badge.svg\" alt=\"Open In Colab\"/></a>"
      ]
    },
    {
      "cell_type": "code",
      "source": [
        "\"\"\"\n",
        "\n",
        "参考書：すっきりわかるPython/377ページ\n",
        "作成者：さくや\n",
        "作成日：2025/08\n",
        "作りたいもの：自動家計簿\n",
        "　　　　　　　バーコードを読み込むと商品名が自動入力され、家財管理ができるアプリ\n",
        "　　　　　　　　(フードロス削減、片付けの補助、商品の重複購入防止)\n",
        "\n",
        "目的：基本的な文法のおさらい\n",
        "　　　Pythonへの理解を深めるため\n",
        "　　　Pythonを使用してゲームや便利ツールを作るため\n",
        "　　　初心者を脱却するため\n",
        "　　　Pythonに慣れるため\n",
        "苦手：関数\n",
        "\n",
        "目標達成期間；2025/09/30まで\n",
        "\n",
        "\"\"\""
      ],
      "metadata": {
        "colab": {
          "base_uri": "https://localhost:8080/",
          "height": 83
        },
        "id": "QWBa4izax36F",
        "outputId": "89f8fac6-3222-47ff-aecf-ca7d2f1305ce"
      },
      "execution_count": null,
      "outputs": [
        {
          "output_type": "execute_result",
          "data": {
            "text/plain": [
              "'\\n\\n参考書：すっきりわかるPython/377ページ\\n作成者：さくや\\n作成日：2025/08\\n\\n目的：基本的な文法のおさらい\\n\\u3000\\u3000\\u3000Pythonへの理解を深めるため\\n\\u3000\\u3000\\u3000Pythonを使用してゲームや便利ツールを作るため\\n\\u3000\\u3000\\u3000初心者を脱却するため\\n\\u3000\\u3000\\u3000プログラミングの楽しさを理解するため\\n\\n目標達成期間；2025/09/30まで\\n\\n'"
            ],
            "application/vnd.google.colaboratory.intrinsic+json": {
              "type": "string"
            }
          },
          "metadata": {},
          "execution_count": 9
        }
      ]
    },
    {
      "cell_type": "code",
      "execution_count": null,
      "metadata": {
        "colab": {
          "base_uri": "https://localhost:8080/"
        },
        "id": "FBm9ihryl4MB",
        "outputId": "2ec3c27b-27e1-4a90-c5aa-45c0fcb8fe89"
      },
      "outputs": [
        {
          "output_type": "stream",
          "name": "stdout",
          "text": [
            "Hellow World\n"
          ]
        }
      ],
      "source": [
        "print('Hellow World')"
      ]
    },
    {
      "cell_type": "code",
      "source": [
        "print('Python 頑張る')"
      ],
      "metadata": {
        "colab": {
          "base_uri": "https://localhost:8080/"
        },
        "id": "Mljk1yglwsx7",
        "outputId": "63d7d4ad-a08e-4923-af48-6f45272bf463"
      },
      "execution_count": null,
      "outputs": [
        {
          "output_type": "stream",
          "name": "stdout",
          "text": [
            "Python 頑張る\n"
          ]
        }
      ]
    },
    {
      "cell_type": "code",
      "source": [
        "#氏名、年齢、自己紹介を表示\n",
        "\n",
        "print('さくや')\n",
        "print('20代')\n",
        "print('好奇心旺盛&動物大好き')"
      ],
      "metadata": {
        "colab": {
          "base_uri": "https://localhost:8080/"
        },
        "id": "WmbjwhJkw5cb",
        "outputId": "cd3926a8-8d3c-4937-e6de-6dab87ac5c9a"
      },
      "execution_count": null,
      "outputs": [
        {
          "output_type": "stream",
          "name": "stdout",
          "text": [
            "さくや\n",
            "20代\n",
            "好奇心旺盛&動物大好き\n"
          ]
        }
      ]
    },
    {
      "cell_type": "code",
      "source": [
        "#第1部 Pythonの基礎を学ぼう\n",
        "#第1章 変数とデータ型"
      ],
      "metadata": {
        "id": "CT5V3QnW3CIM"
      },
      "execution_count": null,
      "outputs": []
    },
    {
      "cell_type": "code",
      "source": [
        "print(1)\n",
        "print(10)"
      ],
      "metadata": {
        "colab": {
          "base_uri": "https://localhost:8080/"
        },
        "id": "yiUrW7SfBRxe",
        "outputId": "03c81f8b-347b-48d6-bef0-abea1ff78f18"
      },
      "execution_count": null,
      "outputs": [
        {
          "output_type": "stream",
          "name": "stdout",
          "text": [
            "1\n",
            "10\n"
          ]
        }
      ]
    },
    {
      "cell_type": "code",
      "source": [
        "print(1+1) #+\n",
        "print(10-2) #-\n",
        "print(13*4) #×\n",
        "print(28000/23) #÷\n",
        "print(148//9) #割り算の商\n",
        "print(98%9) #割り算の余り\n",
        "print(2**8) #累乗"
      ],
      "metadata": {
        "colab": {
          "base_uri": "https://localhost:8080/"
        },
        "id": "ruS3tGE3B8B1",
        "outputId": "49fbcc8e-cd5b-459e-d316-dd36565fe958"
      },
      "execution_count": null,
      "outputs": [
        {
          "output_type": "stream",
          "name": "stdout",
          "text": [
            "2\n",
            "8\n",
            "52\n",
            "1217.391304347826\n",
            "16\n",
            "8\n",
            "256\n"
          ]
        }
      ]
    },
    {
      "cell_type": "code",
      "source": [
        "print('1'+'1')"
      ],
      "metadata": {
        "colab": {
          "base_uri": "https://localhost:8080/"
        },
        "id": "JoHIpElUCW0q",
        "outputId": "bd408660-c6b1-4928-e204-ad768a96cad0"
      },
      "execution_count": null,
      "outputs": [
        {
          "output_type": "stream",
          "name": "stdout",
          "text": [
            "11\n"
          ]
        }
      ]
    },
    {
      "cell_type": "code",
      "source": [
        "print('オラ'*7)"
      ],
      "metadata": {
        "colab": {
          "base_uri": "https://localhost:8080/"
        },
        "id": "mhGsaWKMDdwW",
        "outputId": "c8597ba7-b01f-4759-d16c-1966034ff373"
      },
      "execution_count": null,
      "outputs": [
        {
          "output_type": "stream",
          "name": "stdout",
          "text": [
            "オラオラオラオラオラオラオラ\n"
          ]
        }
      ]
    },
    {
      "cell_type": "code",
      "source": [
        "print('Python' + 'の世界へようこそ')\n",
        "print('とっても'*2 + '楽しいよ!')"
      ],
      "metadata": {
        "colab": {
          "base_uri": "https://localhost:8080/"
        },
        "id": "RUjby_4EQMEj",
        "outputId": "12753236-3edd-4ef6-8ae2-8423601cc751"
      },
      "execution_count": null,
      "outputs": [
        {
          "output_type": "stream",
          "name": "stdout",
          "text": [
            "Pythonの世界へようこそ\n",
            "とってもとっても楽しいよ!\n"
          ]
        }
      ]
    },
    {
      "cell_type": "code",
      "source": [
        "print('はじめまして\\nサクヤです\\nギターが趣味です')\n",
        "print('引用符に\\'と\\\"があります')"
      ],
      "metadata": {
        "colab": {
          "base_uri": "https://localhost:8080/"
        },
        "id": "NmyS1awmQvDd",
        "outputId": "bf6e1fbc-8b72-4de0-9a45-0162c10471af"
      },
      "execution_count": null,
      "outputs": [
        {
          "output_type": "stream",
          "name": "stdout",
          "text": [
            "はじめまして\n",
            "サクヤです\n",
            "ギターが趣味です\n",
            "引用符に'と\"があります\n"
          ]
        }
      ]
    },
    {
      "cell_type": "code",
      "source": [
        "name = 'さくや'\n",
        "age = '20代'\n",
        "print(name)\n",
        "print(age)"
      ],
      "metadata": {
        "id": "PU46TxDSSYR-",
        "colab": {
          "base_uri": "https://localhost:8080/"
        },
        "outputId": "9057005a-37c6-4c96-b2c8-34f72b501616"
      },
      "execution_count": null,
      "outputs": [
        {
          "output_type": "stream",
          "name": "stdout",
          "text": [
            "さくや\n",
            "20代\n"
          ]
        }
      ]
    },
    {
      "cell_type": "code",
      "source": [
        "print('半径が3cmの円の直径は')\n",
        "直径 = (3 * 2)\n",
        "print(直径)\n",
        "print('その円の演習の長さは、直径×円周率で求まるため、')\n",
        "print(直径 * 3.14)"
      ],
      "metadata": {
        "colab": {
          "base_uri": "https://localhost:8080/"
        },
        "id": "Ytv4uvFB5A2T",
        "outputId": "922897b6-48d7-4423-ff30-fc6a478874be"
      },
      "execution_count": null,
      "outputs": [
        {
          "output_type": "stream",
          "name": "stdout",
          "text": [
            "半径が3cmの円の直径は\n",
            "6\n",
            "その円の演習の長さは、直径×円周率で求まるため、\n",
            "18.84\n"
          ]
        }
      ]
    },
    {
      "cell_type": "code",
      "source": [
        "age = 20\n",
        "print('木村の年齢は')\n",
        "print(age)\n",
        "age =26\n",
        "print('うそ。本当は')\n",
        "print(age)"
      ],
      "metadata": {
        "colab": {
          "base_uri": "https://localhost:8080/"
        },
        "id": "gXyUeM1N6ZtQ",
        "outputId": "a27ce21d-3187-4886-f910-6f68c352cbbc"
      },
      "execution_count": null,
      "outputs": [
        {
          "output_type": "stream",
          "name": "stdout",
          "text": [
            "木村の年齢は\n",
            "20\n",
            "うそ。本当は\n",
            "26\n"
          ]
        }
      ]
    },
    {
      "cell_type": "code",
      "source": [
        "name,age = '木村',24\n",
        "\n",
        "print(name)\n",
        "print(age)"
      ],
      "metadata": {
        "colab": {
          "base_uri": "https://localhost:8080/"
        },
        "id": "i3GD1W6W7lG0",
        "outputId": "ae4b63ce-4d39-4886-8e89-7740c8b71a0e"
      },
      "execution_count": null,
      "outputs": [
        {
          "output_type": "stream",
          "name": "stdout",
          "text": [
            "木村\n",
            "24\n"
          ]
        }
      ]
    },
    {
      "cell_type": "code",
      "source": [
        "age = 24\n",
        "print('今年の年齢は')\n",
        "print(age)\n",
        "age = age + 1\n",
        "print('来年は')\n",
        "print(age)\n",
        "age = age + 1\n",
        "print('再来年は')\n",
        "print(age)"
      ],
      "metadata": {
        "colab": {
          "base_uri": "https://localhost:8080/"
        },
        "id": "QAm-Pyw28hBe",
        "outputId": "603e85a8-e43f-4af9-af90-fd3893f4f124"
      },
      "execution_count": null,
      "outputs": [
        {
          "output_type": "stream",
          "name": "stdout",
          "text": [
            "今年の年齢は\n",
            "24\n",
            "来年は\n",
            "25\n",
            "再来年は\n",
            "26\n"
          ]
        }
      ]
    },
    {
      "cell_type": "code",
      "source": [
        "age += 1\n",
        "print(age)"
      ],
      "metadata": {
        "colab": {
          "base_uri": "https://localhost:8080/"
        },
        "id": "QopDj7gw9AO_",
        "outputId": "e2fcc50d-c5d2-4451-d8db-2a682d24e37c"
      },
      "execution_count": null,
      "outputs": [
        {
          "output_type": "stream",
          "name": "stdout",
          "text": [
            "32\n"
          ]
        }
      ]
    },
    {
      "cell_type": "code",
      "source": [
        "name = input('あなたの名前を入力してください')\n",
        "print('おお' + name + 'よ、其方が来るのを待っていたぞ！')"
      ],
      "metadata": {
        "colab": {
          "base_uri": "https://localhost:8080/"
        },
        "id": "nXFCgmct9juC",
        "outputId": "4035453c-588c-467b-b28a-546af02917c0"
      },
      "execution_count": null,
      "outputs": [
        {
          "output_type": "stream",
          "name": "stdout",
          "text": [
            "あなたの名前を入力してくださいsakuya\n",
            "おおsakuyaよ、其方が来るのを待っていたぞ！\n"
          ]
        }
      ]
    },
    {
      "cell_type": "code",
      "source": [
        "#割り勘計算\n",
        "\n",
        "price = input('金額を入力してください')\n",
        "number = input('人数を入力してください')\n",
        "price = int(price)\n",
        "number = int(number)\n",
        "pay = price / number\n",
        "pay = int(pay)\n",
        "print('お支払いは１人' + str(pay) + '円です')"
      ],
      "metadata": {
        "colab": {
          "base_uri": "https://localhost:8080/"
        },
        "id": "l1FPkNXa_TiV",
        "outputId": "b5a86a79-78da-4262-fb9f-a9ee18a3e3c6"
      },
      "execution_count": null,
      "outputs": [
        {
          "output_type": "stream",
          "name": "stdout",
          "text": [
            "金額を入力してください7000\n",
            "人数を入力してください12\n",
            "お支払いは１人583円です\n"
          ]
        }
      ]
    },
    {
      "cell_type": "code",
      "source": [
        "X = 10\n",
        "print(type(X))\n",
        "\n",
        "#type(変数名)で変数に代入されているデータ型を調べることができる"
      ],
      "metadata": {
        "colab": {
          "base_uri": "https://localhost:8080/"
        },
        "id": "UiKs-EjDBBTq",
        "outputId": "858ed797-d2f4-4fe4-c072-9f6d7259fa66"
      },
      "execution_count": null,
      "outputs": [
        {
          "output_type": "stream",
          "name": "stdout",
          "text": [
            "<class 'int'>\n"
          ]
        }
      ]
    },
    {
      "cell_type": "code",
      "source": [
        "name = 'さくや'\n",
        "age = 20\n",
        "height = 165\n",
        "\n",
        "print('私の名前は{}で、年齢は{}代で、身長は{}cmです'.format(name,age,height))\n",
        "\n",
        "#'{}を含む文字列'.format(埋め込む値１,埋め込む値2,....)　のように記載すると見やすいコードになる。\n",
        "#「.」を忘れないように注意。\n",
        "#formatの後ろの()内は自動的に文字列に変換される。"
      ],
      "metadata": {
        "colab": {
          "base_uri": "https://localhost:8080/"
        },
        "id": "_M5wQ1nZDnjn",
        "outputId": "77f1220c-357a-4fd8-e018-dc0192199263"
      },
      "execution_count": null,
      "outputs": [
        {
          "output_type": "stream",
          "name": "stdout",
          "text": [
            "私の名前はさくやで、年齢は20代で、身長は165cmです\n"
          ]
        }
      ]
    },
    {
      "cell_type": "code",
      "source": [
        "from string import hexdigits\n",
        "name = 'さくや'\n",
        "age = 20\n",
        "height = 165\n",
        "\n",
        "print('私の名前は{}で、年齢は{}代で、身長は{}cmです'.format(name,age,height))\n",
        "#or\n",
        "print(f'私の名前は{name}で、年齢は{age}代で、身長は{height}cmです')\n",
        "\n",
        "#どちらの書き方でも同じ意味となる。"
      ],
      "metadata": {
        "colab": {
          "base_uri": "https://localhost:8080/"
        },
        "id": "k8os4FKwZGTP",
        "outputId": "fe588481-b0a4-4eb1-9d5f-08e6d21b93a3"
      },
      "execution_count": null,
      "outputs": [
        {
          "output_type": "stream",
          "name": "stdout",
          "text": [
            "私の名前はさくやで、年齢は20代で、身長は165cmです\n",
            "私の名前はさくやで、年齢は20代で、身長は165cmです\n"
          ]
        }
      ]
    },
    {
      "cell_type": "code",
      "source": [
        "'''\n",
        "練習問題\n",
        "\n",
        "1-1\n",
        "\n",
        "(1)2+10*5 → 2+ 50 → 52\n",
        "(2)'7'*(3+4) → '7'* 7 → 7777777\n",
        "(3)'version{}'.format(3+2*0.1+9*0.01) → 'version{}'.format(3+0.2+0.09) → version3.29\n",
        "(4)4*'num'+'回目のTypeError' → 'numnumnumnum' + '回目のTypeError' → numnumnumnum回目のTypeError\n",
        "\n",
        "1-2\n",
        "\n",
        "(1)int型\n",
        "(2)str型　❌エラーになる\n",
        "(3)str型\n",
        "(4)float型\n",
        "\n",
        "1-3\n",
        "BMI計算\n",
        "\n",
        "h,w = int(input('身長は？(cm)'))/100,int(input('体重は？(kg)'))\n",
        "print(f'BMIは{w/(h**2)}です')\n",
        "\n",
        "↑本での正答\n",
        "'''\n",
        "\n",
        "weight = input('体重を入力してください(kg)')\n",
        "height = input('身長を入力してください(m)')\n",
        "weight = int(weight)\n",
        "height = float(height)\n",
        "BMI = int(weight / height**2)\n",
        "print(f'BMIは{BMI}')"
      ],
      "metadata": {
        "colab": {
          "base_uri": "https://localhost:8080/"
        },
        "id": "fZ_PpXbGbGsV",
        "outputId": "d23c8981-9b27-49ac-e9ad-83a0da05d8a2"
      },
      "execution_count": null,
      "outputs": [
        {
          "output_type": "stream",
          "name": "stdout",
          "text": [
            "体重を入力してください(kg)55\n",
            "身長を入力してください(m)1.65\n",
            "BMIは20\n"
          ]
        }
      ]
    },
    {
      "cell_type": "code",
      "source": [
        "#第2章　コレクション\n"
      ],
      "metadata": {
        "id": "5MspuorVcOMm"
      },
      "execution_count": null,
      "outputs": []
    }
  ]
}