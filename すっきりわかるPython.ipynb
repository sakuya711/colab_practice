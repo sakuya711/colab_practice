{
  "nbformat": 4,
  "nbformat_minor": 0,
  "metadata": {
    "colab": {
      "provenance": [],
      "authorship_tag": "ABX9TyPD892senv4RagmWLjMgeYa",
      "include_colab_link": true
    },
    "kernelspec": {
      "name": "python3",
      "display_name": "Python 3"
    },
    "language_info": {
      "name": "python"
    }
  },
  "cells": [
    {
      "cell_type": "markdown",
      "metadata": {
        "id": "view-in-github",
        "colab_type": "text"
      },
      "source": [
        "<a href=\"https://colab.research.google.com/github/sakuya711/colab_practice/blob/main/%E3%81%99%E3%81%A3%E3%81%8D%E3%82%8A%E3%82%8F%E3%81%8B%E3%82%8BPython.ipynb\" target=\"_parent\"><img src=\"https://colab.research.google.com/assets/colab-badge.svg\" alt=\"Open In Colab\"/></a>"
      ]
    },
    {
      "cell_type": "code",
      "source": [
        "\"\"\"\n",
        "\n",
        "参考書：すっきりわかるPython/377ページ\n",
        "作成者：さくや\n",
        "作成日：2025/08\n",
        "作りたいもの：自動家計簿\n",
        "　　　　　　　バーコードを読み込むと商品名が自動入力され、家財管理ができるアプリ\n",
        "　　　　　　　　(フードロス削減、片付けの補助、商品の重複購入防止)\n",
        "\n",
        "目的：基本的な文法のおさらい\n",
        "　　　Pythonへの理解を深めるため\n",
        "　　　Pythonを使用してゲームや便利ツールを作るため\n",
        "　　　初心者を脱却するため\n",
        "　　　Pythonに慣れるため\n",
        "苦手：関数\n",
        "\n",
        "目標達成期間；2025/09/30まで\n",
        "\n",
        "\"\"\""
      ],
      "metadata": {
        "colab": {
          "base_uri": "https://localhost:8080/",
          "height": 83
        },
        "id": "QWBa4izax36F",
        "outputId": "89f8fac6-3222-47ff-aecf-ca7d2f1305ce"
      },
      "execution_count": null,
      "outputs": [
        {
          "output_type": "execute_result",
          "data": {
            "text/plain": [
              "'\\n\\n参考書：すっきりわかるPython/377ページ\\n作成者：さくや\\n作成日：2025/08\\n\\n目的：基本的な文法のおさらい\\n\\u3000\\u3000\\u3000Pythonへの理解を深めるため\\n\\u3000\\u3000\\u3000Pythonを使用してゲームや便利ツールを作るため\\n\\u3000\\u3000\\u3000初心者を脱却するため\\n\\u3000\\u3000\\u3000プログラミングの楽しさを理解するため\\n\\n目標達成期間；2025/09/30まで\\n\\n'"
            ],
            "application/vnd.google.colaboratory.intrinsic+json": {
              "type": "string"
            }
          },
          "metadata": {},
          "execution_count": 9
        }
      ]
    },
    {
      "cell_type": "code",
      "execution_count": null,
      "metadata": {
        "colab": {
          "base_uri": "https://localhost:8080/"
        },
        "id": "FBm9ihryl4MB",
        "outputId": "2ec3c27b-27e1-4a90-c5aa-45c0fcb8fe89"
      },
      "outputs": [
        {
          "output_type": "stream",
          "name": "stdout",
          "text": [
            "Hellow World\n"
          ]
        }
      ],
      "source": [
        "print('Hellow World')"
      ]
    },
    {
      "cell_type": "code",
      "source": [
        "print('Python 頑張る')"
      ],
      "metadata": {
        "colab": {
          "base_uri": "https://localhost:8080/"
        },
        "id": "Mljk1yglwsx7",
        "outputId": "63d7d4ad-a08e-4923-af48-6f45272bf463"
      },
      "execution_count": null,
      "outputs": [
        {
          "output_type": "stream",
          "name": "stdout",
          "text": [
            "Python 頑張る\n"
          ]
        }
      ]
    },
    {
      "cell_type": "code",
      "source": [
        "#氏名、年齢、自己紹介を表示\n",
        "\n",
        "print('さくや')\n",
        "print('20代')\n",
        "print('好奇心旺盛&動物大好き')"
      ],
      "metadata": {
        "colab": {
          "base_uri": "https://localhost:8080/"
        },
        "id": "WmbjwhJkw5cb",
        "outputId": "cd3926a8-8d3c-4937-e6de-6dab87ac5c9a"
      },
      "execution_count": null,
      "outputs": [
        {
          "output_type": "stream",
          "name": "stdout",
          "text": [
            "さくや\n",
            "20代\n",
            "好奇心旺盛&動物大好き\n"
          ]
        }
      ]
    },
    {
      "cell_type": "code",
      "source": [
        "#第1部 Pythonの基礎を学ぼう\n",
        "#第1章 変数とデータ型"
      ],
      "metadata": {
        "id": "CT5V3QnW3CIM"
      },
      "execution_count": null,
      "outputs": []
    },
    {
      "cell_type": "code",
      "source": [
        "#1.1 式と演算\n",
        "\n",
        "print(1)\n",
        "print(10)"
      ],
      "metadata": {
        "colab": {
          "base_uri": "https://localhost:8080/"
        },
        "id": "yiUrW7SfBRxe",
        "outputId": "03c81f8b-347b-48d6-bef0-abea1ff78f18"
      },
      "execution_count": null,
      "outputs": [
        {
          "output_type": "stream",
          "name": "stdout",
          "text": [
            "1\n",
            "10\n"
          ]
        }
      ]
    },
    {
      "cell_type": "code",
      "source": [
        "print(1+1) #+\n",
        "print(10-2) #-\n",
        "print(13*4) #×\n",
        "print(28000/23) #÷\n",
        "print(148//9) #割り算の商\n",
        "print(98%9) #割り算の余り\n",
        "print(2**8) #累乗"
      ],
      "metadata": {
        "colab": {
          "base_uri": "https://localhost:8080/"
        },
        "id": "ruS3tGE3B8B1",
        "outputId": "49fbcc8e-cd5b-459e-d316-dd36565fe958"
      },
      "execution_count": null,
      "outputs": [
        {
          "output_type": "stream",
          "name": "stdout",
          "text": [
            "2\n",
            "8\n",
            "52\n",
            "1217.391304347826\n",
            "16\n",
            "8\n",
            "256\n"
          ]
        }
      ]
    },
    {
      "cell_type": "code",
      "source": [
        "print('1'+'1')\n",
        "\n",
        "#1日目/1~36p"
      ],
      "metadata": {
        "colab": {
          "base_uri": "https://localhost:8080/"
        },
        "id": "JoHIpElUCW0q",
        "outputId": "bd408660-c6b1-4928-e204-ad768a96cad0"
      },
      "execution_count": null,
      "outputs": [
        {
          "output_type": "stream",
          "name": "stdout",
          "text": [
            "11\n"
          ]
        }
      ]
    },
    {
      "cell_type": "code",
      "source": [
        "print('オラ'*7)"
      ],
      "metadata": {
        "colab": {
          "base_uri": "https://localhost:8080/"
        },
        "id": "mhGsaWKMDdwW",
        "outputId": "c8597ba7-b01f-4759-d16c-1966034ff373"
      },
      "execution_count": null,
      "outputs": [
        {
          "output_type": "stream",
          "name": "stdout",
          "text": [
            "オラオラオラオラオラオラオラ\n"
          ]
        }
      ]
    },
    {
      "cell_type": "code",
      "source": [
        "print('Python' + 'の世界へようこそ')\n",
        "print('とっても'*2 + '楽しいよ!')"
      ],
      "metadata": {
        "colab": {
          "base_uri": "https://localhost:8080/"
        },
        "id": "RUjby_4EQMEj",
        "outputId": "12753236-3edd-4ef6-8ae2-8423601cc751"
      },
      "execution_count": null,
      "outputs": [
        {
          "output_type": "stream",
          "name": "stdout",
          "text": [
            "Pythonの世界へようこそ\n",
            "とってもとっても楽しいよ!\n"
          ]
        }
      ]
    },
    {
      "cell_type": "code",
      "source": [
        "print('はじめまして\\nサクヤです\\nギターが趣味です')\n",
        "print('引用符に\\'と\\\"があります')"
      ],
      "metadata": {
        "colab": {
          "base_uri": "https://localhost:8080/"
        },
        "id": "NmyS1awmQvDd",
        "outputId": "bf6e1fbc-8b72-4de0-9a45-0162c10471af"
      },
      "execution_count": null,
      "outputs": [
        {
          "output_type": "stream",
          "name": "stdout",
          "text": [
            "はじめまして\n",
            "サクヤです\n",
            "ギターが趣味です\n",
            "引用符に'と\"があります\n"
          ]
        }
      ]
    },
    {
      "cell_type": "code",
      "source": [],
      "metadata": {
        "id": "PU46TxDSSYR-"
      },
      "execution_count": null,
      "outputs": []
    }
  ]
}