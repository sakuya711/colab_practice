{
  "nbformat": 4,
  "nbformat_minor": 0,
  "metadata": {
    "colab": {
      "provenance": [],
      "authorship_tag": "ABX9TyNJzNlOeIXCtuXAF/XO3BQy",
      "include_colab_link": true
    },
    "kernelspec": {
      "name": "python3",
      "display_name": "Python 3"
    },
    "language_info": {
      "name": "python"
    }
  },
  "cells": [
    {
      "cell_type": "markdown",
      "metadata": {
        "id": "view-in-github",
        "colab_type": "text"
      },
      "source": [
        "<a href=\"https://colab.research.google.com/github/sakuya711/colab_practice/blob/main/%E3%82%B9%E3%82%A4%E3%82%AB%E5%89%B2%E3%82%8A%E3%82%B2%E3%83%BC%E3%83%A0.ipynb\" target=\"_parent\"><img src=\"https://colab.research.google.com/assets/colab-badge.svg\" alt=\"Open In Colab\"/></a>"
      ]
    },
    {
      "cell_type": "code",
      "source": [],
      "metadata": {
        "id": "EJP8qfV-oCFu"
      },
      "execution_count": null,
      "outputs": []
    },
    {
      "cell_type": "code",
      "execution_count": null,
      "metadata": {
        "colab": {
          "base_uri": "https://localhost:8080/"
        },
        "id": "uyGm7N-GkBmd",
        "outputId": "65230681-95c8-4174-98ff-ff56652b7ba4"
      },
      "outputs": [
        {
          "output_type": "stream",
          "name": "stdout",
          "text": [
            "スイカまでの距離 1.0\n",
            "n:北 s:南 e:東 w:西s\n",
            "ゲームクリア\n"
          ]
        }
      ],
      "source": [
        "import random #ランダム関数を呼び出す\n",
        "random.randrange(0,5)\n",
        "\n",
        "#スイカの位置を決める\n",
        "suika_x = random.randrange(0,5)\n",
        "suika_y = random.randrange(0,5)\n",
        "\n",
        "#プレイヤーの位置を決める\n",
        "player_x = random.randrange(0,5)\n",
        "player_y = random.randrange(0,5)\n",
        "\n",
        "import math #math関数を呼び出す\n",
        "\n",
        "def calc_distance(x1,y1,x2,y2): #関数を定義\n",
        "    diff_x = x1 - x2\n",
        "    diff_y = y1 - y2\n",
        "    return math.sqrt(diff_x**2 + diff_y**2)\n",
        "\n",
        "\n",
        "while (suika_x != player_x) or (suika_y != player_y): #スイカとプレイヤーの位置が異なる場合\n",
        "    #スイカとプレイヤーの距離を求める\n",
        "    distance = calc_distance(player_x,player_y,suika_x,suika_y)\n",
        "    #異なるならばスイカとプレイヤーの距離を表示\n",
        "    print(\"スイカまでの距離\",distance)\n",
        "    #nなら北に１マス、sなら南に１ます、eなら東に１ます、wなら西に１ます進む\n",
        "    idou = input(\"n:北 s:南 e:東 w:西\")\n",
        "    if idou == \"n\":\n",
        "        player_y  = player_y - 1\n",
        "    elif idou == \"s\":\n",
        "        player_y = player_y + 1\n",
        "    elif idou == \"e\":\n",
        "        player_x = player_x + 1\n",
        "    elif idou ==\"w\":\n",
        "        player_x = player_x - 1\n",
        "\n",
        "print(\"ゲームクリア\")\n"
      ]
    },
    {
      "cell_type": "code",
      "source": [
        "BOARD_SIZE = 10 #ボードの初期サイズ\n",
        "\n",
        "#スイカとプレイヤーの距離をもとめる\n",
        "import math\n",
        "def calc_distance(pos1,pos2):\n",
        "    diff_x = pos1[0] - pos2[0]\n",
        "    diff_y = pos1[1] - pos2[1]\n",
        "    return math.sqrt(diff_x**2 + diff_y**2)\n",
        "\n",
        "def generate_position(size):\n",
        "    #０以上size未満でx、y座標を生成する\n",
        "    x = random.randrange(0,size)\n",
        "    y = random.randrange(0,size)\n",
        "    return (x,y)\n",
        "\n",
        "def move_position(direction,pos):\n",
        "    cx,cy = pos\n",
        "    if direction == \"n\":\n",
        "        cy = cy - 1\n",
        "    elif direction == \"s\":\n",
        "        cy = cy + 1\n",
        "    elif direction == \"e\":\n",
        "        cx = cx + 1\n",
        "    elif direction == \"w\":\n",
        "        cx = cx - 1\n",
        "    return (cx,cy)\n",
        "\n",
        "import random\n",
        "\n",
        "def suika_wari():\n",
        "    #スイカの位置\n",
        "    suika_pos = generate_position(BOARD_SIZE)\n",
        "    #プレイヤーの位置\n",
        "    player_pos = generate_position(BOARD_SIZE)\n",
        "\n",
        "\n",
        "    #スイカとプレイヤーの位置が異なる場合\n",
        "    while (suika_pos != player_pos):\n",
        "        #スイカとプレイヤーの距離を求める\n",
        "        distance = calc_distance(suika_pos,player_pos)\n",
        "        #異なるならばスイカとプレイヤーの距離を表示\n",
        "        print(\"スイカまでの距離\",distance)\n",
        "\n",
        "        c = input()\n",
        "\n",
        "        player_pos = move_position(c,player_pos)\n",
        "\n",
        "    print(\"クリア\")"
      ],
      "metadata": {
        "id": "9VJb47KhqakY"
      },
      "execution_count": null,
      "outputs": []
    },
    {
      "cell_type": "code",
      "source": [],
      "metadata": {
        "id": "m158v-jKEk_w"
      },
      "execution_count": null,
      "outputs": []
    }
  ]
}